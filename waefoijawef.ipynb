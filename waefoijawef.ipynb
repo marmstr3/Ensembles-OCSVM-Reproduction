{
 "cells": [
  {
   "cell_type": "code",
   "execution_count": 9,
   "metadata": {},
   "outputs": [
    {
     "name": "stdout",
     "output_type": "stream",
     "text": [
      "Automatically created module for IPython interactive environment\n"
     ]
    },
    {
     "ename": "IndexError",
     "evalue": "list index out of range",
     "output_type": "error",
     "traceback": [
      "\u001b[1;31m---------------------------------------------------------------------------\u001b[0m",
      "\u001b[1;31mIndexError\u001b[0m                                Traceback (most recent call last)",
      "\u001b[1;32m<ipython-input-9-652f7799adfd>\u001b[0m in \u001b[0;36m<module>\u001b[1;34m\u001b[0m\n\u001b[0;32m     49\u001b[0m \u001b[0mplt\u001b[0m\u001b[1;33m.\u001b[0m\u001b[0mxlim\u001b[0m\u001b[1;33m(\u001b[0m\u001b[1;33m(\u001b[0m\u001b[0mxx1\u001b[0m\u001b[1;33m.\u001b[0m\u001b[0mmin\u001b[0m\u001b[1;33m(\u001b[0m\u001b[1;33m)\u001b[0m\u001b[1;33m,\u001b[0m \u001b[0mxx1\u001b[0m\u001b[1;33m.\u001b[0m\u001b[0mmax\u001b[0m\u001b[1;33m(\u001b[0m\u001b[1;33m)\u001b[0m\u001b[1;33m)\u001b[0m\u001b[1;33m)\u001b[0m\u001b[1;33m\u001b[0m\u001b[1;33m\u001b[0m\u001b[0m\n\u001b[0;32m     50\u001b[0m \u001b[0mplt\u001b[0m\u001b[1;33m.\u001b[0m\u001b[0mylim\u001b[0m\u001b[1;33m(\u001b[0m\u001b[1;33m(\u001b[0m\u001b[0myy1\u001b[0m\u001b[1;33m.\u001b[0m\u001b[0mmin\u001b[0m\u001b[1;33m(\u001b[0m\u001b[1;33m)\u001b[0m\u001b[1;33m,\u001b[0m \u001b[0myy1\u001b[0m\u001b[1;33m.\u001b[0m\u001b[0mmax\u001b[0m\u001b[1;33m(\u001b[0m\u001b[1;33m)\u001b[0m\u001b[1;33m)\u001b[0m\u001b[1;33m)\u001b[0m\u001b[1;33m\u001b[0m\u001b[1;33m\u001b[0m\u001b[0m\n\u001b[1;32m---> 51\u001b[1;33m plt.legend((legend1_values_list[0].collections[0],\n\u001b[0m\u001b[0;32m     52\u001b[0m             \u001b[0mlegend1_values_list\u001b[0m\u001b[1;33m[\u001b[0m\u001b[1;36m1\u001b[0m\u001b[1;33m]\u001b[0m\u001b[1;33m.\u001b[0m\u001b[0mcollections\u001b[0m\u001b[1;33m[\u001b[0m\u001b[1;36m0\u001b[0m\u001b[1;33m]\u001b[0m\u001b[1;33m,\u001b[0m\u001b[1;33m\u001b[0m\u001b[1;33m\u001b[0m\u001b[0m\n\u001b[0;32m     53\u001b[0m             legend1_values_list[2].collections[0]),\n",
      "\u001b[1;31mIndexError\u001b[0m: list index out of range"
     ]
    },
    {
     "data": {
      "image/png": "[encoded data removed]",
      "text/plain": "<Figure size 432x288 with 1 Axes>"
     },
     "metadata": {
      "needs_background": "light"
     },
     "output_type": "display_data"
    }
   ],
   "source": [
    "print(__doc__)\r\n",
    "\r\n",
    "# Author: Virgile Fritsch <virgile.fritsch@inria.fr>\r\n",
    "# License: BSD 3 clause\r\n",
    "\r\n",
    "import numpy as np\r\n",
    "from sklearn.covariance import EllipticEnvelope\r\n",
    "from sklearn.svm import OneClassSVM\r\n",
    "import matplotlib.pyplot as plt\r\n",
    "import matplotlib.font_manager\r\n",
    "from sklearn.datasets import load_wine\r\n",
    "\r\n",
    "# Define \"classifiers\" to be used\r\n",
    "classifiers = {\r\n",
    "    \"Empirical Covariance\": EllipticEnvelope(support_fraction=1.,\r\n",
    "                                             contamination=0.25),\r\n",
    "    \"Robust Covariance (Minimum Covariance Determinant)\":\r\n",
    "    EllipticEnvelope(contamination=0.25),\r\n",
    "    \"OCSVM\": OneClassSVM(nu=0.25, gamma=0.35)}\r\n",
    "colors = ['m', 'g', 'b']\r\n",
    "legend1 = {}\r\n",
    "legend2 = {}\r\n",
    "\r\n",
    "# Get data\r\n",
    "X1 = load_wine()['data'][:, [1, 2]]  # two clusters\r\n",
    "\r\n",
    "# Learn a frontier for outlier detection with several classifiers\r\n",
    "xx1, yy1 = np.meshgrid(np.linspace(0, 6, 500), np.linspace(1, 4.5, 500))\r\n",
    "for i, (clf_name, clf) in enumerate(classifiers.items()):\r\n",
    "    plt.figure(1)\r\n",
    "    clf.fit(X1)\r\n",
    "    Z1 = clf.decision_function(np.c_[xx1.ravel(), yy1.ravel()])\r\n",
    "    Z1 = Z1.reshape(xx1.shape)\r\n",
    "    legend1[clf_name] = plt.contour(\r\n",
    "        xx1, yy1, Z1, levels=[0], linewidths=2, colors=colors[i])\r\n",
    "\r\n",
    "legend1_values_list = list(legend1.values())\r\n",
    "legend1_keys_list = list(legend1.keys())\r\n",
    "\r\n",
    "# Plot the results (= shape of the data points cloud)\r\n",
    "plt.figure(1)  # two clusters\r\n",
    "plt.title(\"Outlier detection on a real data set (wine recognition)\")\r\n",
    "plt.scatter(X1[:, 0], X1[:, 1], color='black')\r\n",
    "bbox_args = dict(boxstyle=\"round\", fc=\"0.8\")\r\n",
    "arrow_args = dict(arrowstyle=\"->\")\r\n",
    "plt.annotate(\"outlying points\", xy=(4, 2),\r\n",
    "             xycoords=\"data\", textcoords=\"data\",\r\n",
    "             xytext=(3, 1.25), bbox=bbox_args, arrowprops=arrow_args)\r\n",
    "plt.xlim((xx1.min(), xx1.max()))\r\n",
    "plt.ylim((yy1.min(), yy1.max()))\r\n",
    "plt.legend((legend1_values_list[0].collections[0],\r\n",
    "            legend1_values_list[1].collections[0],\r\n",
    "            legend1_values_list[2].collections[0]),\r\n",
    "           (legend1_keys_list[0], legend1_keys_list[1], legend1_keys_list[2]),\r\n",
    "           loc=\"upper center\",\r\n",
    "           prop=matplotlib.font_manager.FontProperties(size=11))\r\n",
    "plt.ylabel(\"ash\")\r\n",
    "plt.xlabel(\"malic_acid\")\r\n",
    "\r\n",
    "plt.show()"
   ]
  }
 ],
 "metadata": {
  "kernelspec": {
   "display_name": "Python 3.9.5 64-bit",
   "name": "python395jvsc74a57bd00470cbbb695460f767a7deae86eedc808971d1b3e84173573ba3613d448995f1"
  },
  "language_info": {
   "codemirror_mode": {
    "name": "ipython",
    "version": 3
   },
   "file_extension": ".py",
   "mimetype": "text/x-python",
   "name": "python",
   "nbconvert_exporter": "python",
   "pygments_lexer": "ipython3",
   "version": "3.9.5"
  },
  "orig_nbformat": 2
 },
 "nbformat": 4,
 "nbformat_minor": 2
}