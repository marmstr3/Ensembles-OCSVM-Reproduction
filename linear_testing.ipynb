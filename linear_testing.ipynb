{
 "cells": [
  {
   "cell_type": "markdown",
   "metadata": {},
   "source": [
    "# Reimplimentation of \"Ensembles of One Class Support Vector Machines\" (Shieh & Kamm, 2009)\r\n",
    "## Author: Michael Armstrong | <ArmstrongAMichael@gmail.com>"
   ]
  },
  {
   "cell_type": "markdown",
   "metadata": {},
   "source": [
    "## Load Dependencies & Setup"
   ]
  },
  {
   "cell_type": "code",
   "execution_count": 45,
   "metadata": {},
   "outputs": [],
   "source": [
    "import matplotlib.pyplot as plt\r\n",
    "import numpy as np\r\n",
    "import random\r\n",
    "from sklearn.svm import OneClassSVM\r\n",
    "from sklearn.ensemble import BaggingClassifier\r\n",
    "plt.style.use('seaborn-whitegrid')"
   ]
  },
  {
   "cell_type": "markdown",
   "metadata": {},
   "source": [
    "## Linear Data"
   ]
  },
  {
   "cell_type": "code",
   "execution_count": 46,
   "metadata": {},
   "outputs": [],
   "source": [
    "number_of_negative_entries = 50\r\n",
    "number_of_positive_entries = 400"
   ]
  },
  {
   "cell_type": "markdown",
   "metadata": {},
   "source": [
    "### Generate Data Sets"
   ]
  },
  {
   "cell_type": "code",
   "execution_count": 47,
   "metadata": {},
   "outputs": [],
   "source": [
    "train_data = np.zeros((number_of_positive_entries+number_of_negative_entries, 2))\r\n",
    "# Generate Linear Dataset (Positive)\r\n",
    "for n in range(number_of_positive_entries):\r\n",
    "    train_data[n][0] = random.uniform(0,3)\r\n",
    "    train_data[n][1] = train_data[n][0]\r\n",
    "\r\n",
    "# Generate Noise (Negative)\r\n",
    "for n in range(number_of_negative_entries):\r\n",
    "    train_data[n+number_of_positive_entries][0] = random.uniform(0,3)\r\n",
    "    train_data[n+number_of_positive_entries][1] = random.uniform(0,3)\r\n"
   ]
  },
  {
   "cell_type": "markdown",
   "metadata": {},
   "source": [
    "### Unbagged Model"
   ]
  },
  {
   "cell_type": "code",
   "execution_count": 48,
   "metadata": {},
   "outputs": [],
   "source": [
    "classifier = OneClassSVM(gamma='scale', nu=1.0/9.0).fit(train_data)"
   ]
  },
  {
   "cell_type": "code",
   "execution_count": 49,
   "metadata": {},
   "outputs": [],
   "source": [
    "# Separate Correct and Incorrect Classifications\r\n",
    "predictions = classifier.predict(train_data)\r\n",
    "correct_predictions = [[], []]\r\n",
    "incorrect_predictions = [[], []]\r\n",
    "for n in range(number_of_positive_entries):\r\n",
    "    if(predictions[n] == 1):\r\n",
    "        correct_predictions[0].append(train_data[n][0])\r\n",
    "        correct_predictions[1].append(train_data[n][1])\r\n",
    "    else:\r\n",
    "        incorrect_predictions[0].append(train_data[n][0])\r\n",
    "        incorrect_predictions[1].append(train_data[n][1])\r\n",
    "\r\n",
    "for n in range(number_of_negative_entries):\r\n",
    "    if(predictions[number_of_positive_entries+n] == 1):\r\n",
    "        incorrect_predictions[0].append(train_data[number_of_positive_entries+n][0])\r\n",
    "        incorrect_predictions[1].append(train_data[number_of_positive_entries+n][1])\r\n",
    "    else:\r\n",
    "        correct_predictions[0].append(train_data[number_of_positive_entries+n][0])\r\n",
    "        correct_predictions[1].append(train_data[number_of_positive_entries+n][1])"
   ]
  },
  {
   "cell_type": "code",
   "execution_count": 50,
   "metadata": {},
   "outputs": [
    {
     "data": {
      "text/plain": [
       "<matplotlib.collections.PathCollection at 0x2e5c97f3460>"
      ]
     },
     "execution_count": 50,
     "metadata": {},
     "output_type": "execute_result"
    },
    {
     "data": {
      "image/png": "[encoded data removed]",
      "text/plain": [
       "<Figure size 432x288 with 1 Axes>"
      ]
     },
     "metadata": {},
     "output_type": "display_data"
    }
   ],
   "source": [
    "# Plot Data and Model Boundary\r\n",
    "plt.figure(1)\r\n",
    "legend = {}\r\n",
    "axes = plt.gca()\r\n",
    "axes.set_xlim([0,3])\r\n",
    "axes.set_ylim([0,3])\r\n",
    "axes.set_aspect('equal')\r\n",
    "xx1, yy1 = np.meshgrid(np.linspace(0,3,500), np.linspace(0,3,500))\r\n",
    "Z1 = classifier.decision_function(np.c_[xx1.ravel(), yy1.ravel()])\r\n",
    "Z1 = Z1.reshape(xx1.shape)\r\n",
    "plt.contour(xx1, yy1, Z1, levels=[0], linewidths=2, colors='b')\r\n",
    "plt.scatter(correct_predictions[0], correct_predictions[1], s=1, c='k')\r\n",
    "plt.scatter(incorrect_predictions[0], incorrect_predictions[1], marker='x', c='r', s=10)"
   ]
  },
  {
   "cell_type": "code",
   "execution_count": 51,
   "metadata": {},
   "outputs": [
    {
     "name": "stdout",
     "output_type": "stream",
     "text": [
      "Correct Predictions: 414\n",
      "Incorrect Predictions: 36\n",
      "Percent Correct: 92.0\n"
     ]
    }
   ],
   "source": [
    "number_correct = len(correct_predictions[0])\r\n",
    "number_incorrect = len(incorrect_predictions[0])\r\n",
    "correct_percentage = 100*(number_correct/(number_correct+number_incorrect))\r\n",
    "\r\n",
    "print(f\"Correct Predictions: {number_correct}\")\r\n",
    "print(f\"Incorrect Predictions: {number_incorrect}\")\r\n",
    "print(f\"Percent Correct: {correct_percentage}\")"
   ]
  },
  {
   "cell_type": "markdown",
   "metadata": {},
   "source": [
    "### Bagged Model"
   ]
  },
  {
   "cell_type": "code",
   "execution_count": 52,
   "metadata": {},
   "outputs": [],
   "source": [
    "classifier = BaggingClassifier(base_estimator=OneClassSVM(gamma='scale', nu=1.0/9.0), n_estimators=10).fit(fit_data, np.zeros(450))"
   ]
  },
  {
   "cell_type": "code",
   "execution_count": 53,
   "metadata": {},
   "outputs": [
    {
     "ename": "IndexError",
     "evalue": "index 1 is out of bounds for axis 1 with size 1",
     "output_type": "error",
     "traceback": [
      "\u001b[1;31m---------------------------------------------------------------------------\u001b[0m",
      "\u001b[1;31mIndexError\u001b[0m                                Traceback (most recent call last)",
      "\u001b[1;32m<ipython-input-53-9627bd7a90c6>\u001b[0m in \u001b[0;36m<module>\u001b[1;34m\u001b[0m\n\u001b[0;32m      1\u001b[0m \u001b[1;31m# Separate Correct and Incorrect Classifications\u001b[0m\u001b[1;33m\u001b[0m\u001b[1;33m\u001b[0m\u001b[1;33m\u001b[0m\u001b[0m\n\u001b[1;32m----> 2\u001b[1;33m \u001b[0mpredictions\u001b[0m \u001b[1;33m=\u001b[0m \u001b[0mclassifier\u001b[0m\u001b[1;33m.\u001b[0m\u001b[0mpredict\u001b[0m\u001b[1;33m(\u001b[0m\u001b[0mfit_data\u001b[0m\u001b[1;33m)\u001b[0m\u001b[1;33m\u001b[0m\u001b[1;33m\u001b[0m\u001b[0m\n\u001b[0m\u001b[0;32m      3\u001b[0m \u001b[0mcorrect_predictions\u001b[0m \u001b[1;33m=\u001b[0m \u001b[1;33m[\u001b[0m\u001b[1;33m[\u001b[0m\u001b[1;33m]\u001b[0m\u001b[1;33m,\u001b[0m \u001b[1;33m[\u001b[0m\u001b[1;33m]\u001b[0m\u001b[1;33m]\u001b[0m\u001b[1;33m\u001b[0m\u001b[1;33m\u001b[0m\u001b[0m\n\u001b[0;32m      4\u001b[0m \u001b[0mincorrect_predictions\u001b[0m \u001b[1;33m=\u001b[0m \u001b[1;33m[\u001b[0m\u001b[1;33m[\u001b[0m\u001b[1;33m]\u001b[0m\u001b[1;33m,\u001b[0m \u001b[1;33m[\u001b[0m\u001b[1;33m]\u001b[0m\u001b[1;33m]\u001b[0m\u001b[1;33m\u001b[0m\u001b[1;33m\u001b[0m\u001b[0m\n\u001b[0;32m      5\u001b[0m \u001b[1;32mfor\u001b[0m \u001b[0mn\u001b[0m \u001b[1;32min\u001b[0m \u001b[0mrange\u001b[0m\u001b[1;33m(\u001b[0m\u001b[0mnumber_of_positive_entries\u001b[0m\u001b[1;33m)\u001b[0m\u001b[1;33m:\u001b[0m\u001b[1;33m\u001b[0m\u001b[1;33m\u001b[0m\u001b[0m\n",
      "\u001b[1;32mc:\\Users\\Broke\\Documents\\Dakota State\\Dr Xu Research\\Ensembles OCSVM Reproduction\\env\\lib\\site-packages\\sklearn\\ensemble\\_bagging.py\u001b[0m in \u001b[0;36mpredict\u001b[1;34m(self, X)\u001b[0m\n\u001b[0;32m    675\u001b[0m             \u001b[0mThe\u001b[0m \u001b[0mpredicted\u001b[0m \u001b[0mclasses\u001b[0m\u001b[1;33m.\u001b[0m\u001b[1;33m\u001b[0m\u001b[1;33m\u001b[0m\u001b[0m\n\u001b[0;32m    676\u001b[0m         \"\"\"\n\u001b[1;32m--> 677\u001b[1;33m         \u001b[0mpredicted_probabilitiy\u001b[0m \u001b[1;33m=\u001b[0m \u001b[0mself\u001b[0m\u001b[1;33m.\u001b[0m\u001b[0mpredict_proba\u001b[0m\u001b[1;33m(\u001b[0m\u001b[0mX\u001b[0m\u001b[1;33m)\u001b[0m\u001b[1;33m\u001b[0m\u001b[1;33m\u001b[0m\u001b[0m\n\u001b[0m\u001b[0;32m    678\u001b[0m         return self.classes_.take((np.argmax(predicted_probabilitiy, axis=1)),\n\u001b[0;32m    679\u001b[0m                                   axis=0)\n",
      "\u001b[1;32mc:\\Users\\Broke\\Documents\\Dakota State\\Dr Xu Research\\Ensembles OCSVM Reproduction\\env\\lib\\site-packages\\sklearn\\ensemble\\_bagging.py\u001b[0m in \u001b[0;36mpredict_proba\u001b[1;34m(self, X)\u001b[0m\n\u001b[0;32m    718\u001b[0m                                                              self.n_jobs)\n\u001b[0;32m    719\u001b[0m \u001b[1;33m\u001b[0m\u001b[0m\n\u001b[1;32m--> 720\u001b[1;33m         all_proba = Parallel(n_jobs=n_jobs, verbose=self.verbose,\n\u001b[0m\u001b[0;32m    721\u001b[0m                              \u001b[1;33m**\u001b[0m\u001b[0mself\u001b[0m\u001b[1;33m.\u001b[0m\u001b[0m_parallel_args\u001b[0m\u001b[1;33m(\u001b[0m\u001b[1;33m)\u001b[0m\u001b[1;33m)\u001b[0m\u001b[1;33m(\u001b[0m\u001b[1;33m\u001b[0m\u001b[1;33m\u001b[0m\u001b[0m\n\u001b[0;32m    722\u001b[0m             delayed(_parallel_predict_proba)(\n",
      "\u001b[1;32mc:\\Users\\Broke\\Documents\\Dakota State\\Dr Xu Research\\Ensembles OCSVM Reproduction\\env\\lib\\site-packages\\joblib\\parallel.py\u001b[0m in \u001b[0;36m__call__\u001b[1;34m(self, iterable)\u001b[0m\n\u001b[0;32m   1039\u001b[0m             \u001b[1;31m# remaining jobs.\u001b[0m\u001b[1;33m\u001b[0m\u001b[1;33m\u001b[0m\u001b[1;33m\u001b[0m\u001b[0m\n\u001b[0;32m   1040\u001b[0m             \u001b[0mself\u001b[0m\u001b[1;33m.\u001b[0m\u001b[0m_iterating\u001b[0m \u001b[1;33m=\u001b[0m \u001b[1;32mFalse\u001b[0m\u001b[1;33m\u001b[0m\u001b[1;33m\u001b[0m\u001b[0m\n\u001b[1;32m-> 1041\u001b[1;33m             \u001b[1;32mif\u001b[0m \u001b[0mself\u001b[0m\u001b[1;33m.\u001b[0m\u001b[0mdispatch_one_batch\u001b[0m\u001b[1;33m(\u001b[0m\u001b[0miterator\u001b[0m\u001b[1;33m)\u001b[0m\u001b[1;33m:\u001b[0m\u001b[1;33m\u001b[0m\u001b[1;33m\u001b[0m\u001b[0m\n\u001b[0m\u001b[0;32m   1042\u001b[0m                 \u001b[0mself\u001b[0m\u001b[1;33m.\u001b[0m\u001b[0m_iterating\u001b[0m \u001b[1;33m=\u001b[0m \u001b[0mself\u001b[0m\u001b[1;33m.\u001b[0m\u001b[0m_original_iterator\u001b[0m \u001b[1;32mis\u001b[0m \u001b[1;32mnot\u001b[0m \u001b[1;32mNone\u001b[0m\u001b[1;33m\u001b[0m\u001b[1;33m\u001b[0m\u001b[0m\n\u001b[0;32m   1043\u001b[0m \u001b[1;33m\u001b[0m\u001b[0m\n",
      "\u001b[1;32mc:\\Users\\Broke\\Documents\\Dakota State\\Dr Xu Research\\Ensembles OCSVM Reproduction\\env\\lib\\site-packages\\joblib\\parallel.py\u001b[0m in \u001b[0;36mdispatch_one_batch\u001b[1;34m(self, iterator)\u001b[0m\n\u001b[0;32m    857\u001b[0m                 \u001b[1;32mreturn\u001b[0m \u001b[1;32mFalse\u001b[0m\u001b[1;33m\u001b[0m\u001b[1;33m\u001b[0m\u001b[0m\n\u001b[0;32m    858\u001b[0m             \u001b[1;32melse\u001b[0m\u001b[1;33m:\u001b[0m\u001b[1;33m\u001b[0m\u001b[1;33m\u001b[0m\u001b[0m\n\u001b[1;32m--> 859\u001b[1;33m                 \u001b[0mself\u001b[0m\u001b[1;33m.\u001b[0m\u001b[0m_dispatch\u001b[0m\u001b[1;33m(\u001b[0m\u001b[0mtasks\u001b[0m\u001b[1;33m)\u001b[0m\u001b[1;33m\u001b[0m\u001b[1;33m\u001b[0m\u001b[0m\n\u001b[0m\u001b[0;32m    860\u001b[0m                 \u001b[1;32mreturn\u001b[0m \u001b[1;32mTrue\u001b[0m\u001b[1;33m\u001b[0m\u001b[1;33m\u001b[0m\u001b[0m\n\u001b[0;32m    861\u001b[0m \u001b[1;33m\u001b[0m\u001b[0m\n",
      "\u001b[1;32mc:\\Users\\Broke\\Documents\\Dakota State\\Dr Xu Research\\Ensembles OCSVM Reproduction\\env\\lib\\site-packages\\joblib\\parallel.py\u001b[0m in \u001b[0;36m_dispatch\u001b[1;34m(self, batch)\u001b[0m\n\u001b[0;32m    775\u001b[0m         \u001b[1;32mwith\u001b[0m \u001b[0mself\u001b[0m\u001b[1;33m.\u001b[0m\u001b[0m_lock\u001b[0m\u001b[1;33m:\u001b[0m\u001b[1;33m\u001b[0m\u001b[1;33m\u001b[0m\u001b[0m\n\u001b[0;32m    776\u001b[0m             \u001b[0mjob_idx\u001b[0m \u001b[1;33m=\u001b[0m \u001b[0mlen\u001b[0m\u001b[1;33m(\u001b[0m\u001b[0mself\u001b[0m\u001b[1;33m.\u001b[0m\u001b[0m_jobs\u001b[0m\u001b[1;33m)\u001b[0m\u001b[1;33m\u001b[0m\u001b[1;33m\u001b[0m\u001b[0m\n\u001b[1;32m--> 777\u001b[1;33m             \u001b[0mjob\u001b[0m \u001b[1;33m=\u001b[0m \u001b[0mself\u001b[0m\u001b[1;33m.\u001b[0m\u001b[0m_backend\u001b[0m\u001b[1;33m.\u001b[0m\u001b[0mapply_async\u001b[0m\u001b[1;33m(\u001b[0m\u001b[0mbatch\u001b[0m\u001b[1;33m,\u001b[0m \u001b[0mcallback\u001b[0m\u001b[1;33m=\u001b[0m\u001b[0mcb\u001b[0m\u001b[1;33m)\u001b[0m\u001b[1;33m\u001b[0m\u001b[1;33m\u001b[0m\u001b[0m\n\u001b[0m\u001b[0;32m    778\u001b[0m             \u001b[1;31m# A job can complete so quickly than its callback is\u001b[0m\u001b[1;33m\u001b[0m\u001b[1;33m\u001b[0m\u001b[1;33m\u001b[0m\u001b[0m\n\u001b[0;32m    779\u001b[0m             \u001b[1;31m# called before we get here, causing self._jobs to\u001b[0m\u001b[1;33m\u001b[0m\u001b[1;33m\u001b[0m\u001b[1;33m\u001b[0m\u001b[0m\n",
      "\u001b[1;32mc:\\Users\\Broke\\Documents\\Dakota State\\Dr Xu Research\\Ensembles OCSVM Reproduction\\env\\lib\\site-packages\\joblib\\_parallel_backends.py\u001b[0m in \u001b[0;36mapply_async\u001b[1;34m(self, func, callback)\u001b[0m\n\u001b[0;32m    206\u001b[0m     \u001b[1;32mdef\u001b[0m \u001b[0mapply_async\u001b[0m\u001b[1;33m(\u001b[0m\u001b[0mself\u001b[0m\u001b[1;33m,\u001b[0m \u001b[0mfunc\u001b[0m\u001b[1;33m,\u001b[0m \u001b[0mcallback\u001b[0m\u001b[1;33m=\u001b[0m\u001b[1;32mNone\u001b[0m\u001b[1;33m)\u001b[0m\u001b[1;33m:\u001b[0m\u001b[1;33m\u001b[0m\u001b[1;33m\u001b[0m\u001b[0m\n\u001b[0;32m    207\u001b[0m         \u001b[1;34m\"\"\"Schedule a func to be run\"\"\"\u001b[0m\u001b[1;33m\u001b[0m\u001b[1;33m\u001b[0m\u001b[0m\n\u001b[1;32m--> 208\u001b[1;33m         \u001b[0mresult\u001b[0m \u001b[1;33m=\u001b[0m \u001b[0mImmediateResult\u001b[0m\u001b[1;33m(\u001b[0m\u001b[0mfunc\u001b[0m\u001b[1;33m)\u001b[0m\u001b[1;33m\u001b[0m\u001b[1;33m\u001b[0m\u001b[0m\n\u001b[0m\u001b[0;32m    209\u001b[0m         \u001b[1;32mif\u001b[0m \u001b[0mcallback\u001b[0m\u001b[1;33m:\u001b[0m\u001b[1;33m\u001b[0m\u001b[1;33m\u001b[0m\u001b[0m\n\u001b[0;32m    210\u001b[0m             \u001b[0mcallback\u001b[0m\u001b[1;33m(\u001b[0m\u001b[0mresult\u001b[0m\u001b[1;33m)\u001b[0m\u001b[1;33m\u001b[0m\u001b[1;33m\u001b[0m\u001b[0m\n",
      "\u001b[1;32mc:\\Users\\Broke\\Documents\\Dakota State\\Dr Xu Research\\Ensembles OCSVM Reproduction\\env\\lib\\site-packages\\joblib\\_parallel_backends.py\u001b[0m in \u001b[0;36m__init__\u001b[1;34m(self, batch)\u001b[0m\n\u001b[0;32m    570\u001b[0m         \u001b[1;31m# Don't delay the application, to avoid keeping the input\u001b[0m\u001b[1;33m\u001b[0m\u001b[1;33m\u001b[0m\u001b[1;33m\u001b[0m\u001b[0m\n\u001b[0;32m    571\u001b[0m         \u001b[1;31m# arguments in memory\u001b[0m\u001b[1;33m\u001b[0m\u001b[1;33m\u001b[0m\u001b[1;33m\u001b[0m\u001b[0m\n\u001b[1;32m--> 572\u001b[1;33m         \u001b[0mself\u001b[0m\u001b[1;33m.\u001b[0m\u001b[0mresults\u001b[0m \u001b[1;33m=\u001b[0m \u001b[0mbatch\u001b[0m\u001b[1;33m(\u001b[0m\u001b[1;33m)\u001b[0m\u001b[1;33m\u001b[0m\u001b[1;33m\u001b[0m\u001b[0m\n\u001b[0m\u001b[0;32m    573\u001b[0m \u001b[1;33m\u001b[0m\u001b[0m\n\u001b[0;32m    574\u001b[0m     \u001b[1;32mdef\u001b[0m \u001b[0mget\u001b[0m\u001b[1;33m(\u001b[0m\u001b[0mself\u001b[0m\u001b[1;33m)\u001b[0m\u001b[1;33m:\u001b[0m\u001b[1;33m\u001b[0m\u001b[1;33m\u001b[0m\u001b[0m\n",
      "\u001b[1;32mc:\\Users\\Broke\\Documents\\Dakota State\\Dr Xu Research\\Ensembles OCSVM Reproduction\\env\\lib\\site-packages\\joblib\\parallel.py\u001b[0m in \u001b[0;36m__call__\u001b[1;34m(self)\u001b[0m\n\u001b[0;32m    260\u001b[0m         \u001b[1;31m# change the default number of processes to -1\u001b[0m\u001b[1;33m\u001b[0m\u001b[1;33m\u001b[0m\u001b[1;33m\u001b[0m\u001b[0m\n\u001b[0;32m    261\u001b[0m         \u001b[1;32mwith\u001b[0m \u001b[0mparallel_backend\u001b[0m\u001b[1;33m(\u001b[0m\u001b[0mself\u001b[0m\u001b[1;33m.\u001b[0m\u001b[0m_backend\u001b[0m\u001b[1;33m,\u001b[0m \u001b[0mn_jobs\u001b[0m\u001b[1;33m=\u001b[0m\u001b[0mself\u001b[0m\u001b[1;33m.\u001b[0m\u001b[0m_n_jobs\u001b[0m\u001b[1;33m)\u001b[0m\u001b[1;33m:\u001b[0m\u001b[1;33m\u001b[0m\u001b[1;33m\u001b[0m\u001b[0m\n\u001b[1;32m--> 262\u001b[1;33m             return [func(*args, **kwargs)\n\u001b[0m\u001b[0;32m    263\u001b[0m                     for func, args, kwargs in self.items]\n\u001b[0;32m    264\u001b[0m \u001b[1;33m\u001b[0m\u001b[0m\n",
      "\u001b[1;32mc:\\Users\\Broke\\Documents\\Dakota State\\Dr Xu Research\\Ensembles OCSVM Reproduction\\env\\lib\\site-packages\\joblib\\parallel.py\u001b[0m in \u001b[0;36m<listcomp>\u001b[1;34m(.0)\u001b[0m\n\u001b[0;32m    260\u001b[0m         \u001b[1;31m# change the default number of processes to -1\u001b[0m\u001b[1;33m\u001b[0m\u001b[1;33m\u001b[0m\u001b[1;33m\u001b[0m\u001b[0m\n\u001b[0;32m    261\u001b[0m         \u001b[1;32mwith\u001b[0m \u001b[0mparallel_backend\u001b[0m\u001b[1;33m(\u001b[0m\u001b[0mself\u001b[0m\u001b[1;33m.\u001b[0m\u001b[0m_backend\u001b[0m\u001b[1;33m,\u001b[0m \u001b[0mn_jobs\u001b[0m\u001b[1;33m=\u001b[0m\u001b[0mself\u001b[0m\u001b[1;33m.\u001b[0m\u001b[0m_n_jobs\u001b[0m\u001b[1;33m)\u001b[0m\u001b[1;33m:\u001b[0m\u001b[1;33m\u001b[0m\u001b[1;33m\u001b[0m\u001b[0m\n\u001b[1;32m--> 262\u001b[1;33m             return [func(*args, **kwargs)\n\u001b[0m\u001b[0;32m    263\u001b[0m                     for func, args, kwargs in self.items]\n\u001b[0;32m    264\u001b[0m \u001b[1;33m\u001b[0m\u001b[0m\n",
      "\u001b[1;32mc:\\Users\\Broke\\Documents\\Dakota State\\Dr Xu Research\\Ensembles OCSVM Reproduction\\env\\lib\\site-packages\\sklearn\\utils\\fixes.py\u001b[0m in \u001b[0;36m__call__\u001b[1;34m(self, *args, **kwargs)\u001b[0m\n\u001b[0;32m    220\u001b[0m     \u001b[1;32mdef\u001b[0m \u001b[0m__call__\u001b[0m\u001b[1;33m(\u001b[0m\u001b[0mself\u001b[0m\u001b[1;33m,\u001b[0m \u001b[1;33m*\u001b[0m\u001b[0margs\u001b[0m\u001b[1;33m,\u001b[0m \u001b[1;33m**\u001b[0m\u001b[0mkwargs\u001b[0m\u001b[1;33m)\u001b[0m\u001b[1;33m:\u001b[0m\u001b[1;33m\u001b[0m\u001b[1;33m\u001b[0m\u001b[0m\n\u001b[0;32m    221\u001b[0m         \u001b[1;32mwith\u001b[0m \u001b[0mconfig_context\u001b[0m\u001b[1;33m(\u001b[0m\u001b[1;33m**\u001b[0m\u001b[0mself\u001b[0m\u001b[1;33m.\u001b[0m\u001b[0mconfig\u001b[0m\u001b[1;33m)\u001b[0m\u001b[1;33m:\u001b[0m\u001b[1;33m\u001b[0m\u001b[1;33m\u001b[0m\u001b[0m\n\u001b[1;32m--> 222\u001b[1;33m             \u001b[1;32mreturn\u001b[0m \u001b[0mself\u001b[0m\u001b[1;33m.\u001b[0m\u001b[0mfunction\u001b[0m\u001b[1;33m(\u001b[0m\u001b[1;33m*\u001b[0m\u001b[0margs\u001b[0m\u001b[1;33m,\u001b[0m \u001b[1;33m**\u001b[0m\u001b[0mkwargs\u001b[0m\u001b[1;33m)\u001b[0m\u001b[1;33m\u001b[0m\u001b[1;33m\u001b[0m\u001b[0m\n\u001b[0m",
      "\u001b[1;32mc:\\Users\\Broke\\Documents\\Dakota State\\Dr Xu Research\\Ensembles OCSVM Reproduction\\env\\lib\\site-packages\\sklearn\\ensemble\\_bagging.py\u001b[0m in \u001b[0;36m_parallel_predict_proba\u001b[1;34m(estimators, estimators_features, X, n_classes)\u001b[0m\n\u001b[0;32m    141\u001b[0m \u001b[1;33m\u001b[0m\u001b[0m\n\u001b[0;32m    142\u001b[0m             \u001b[1;32mfor\u001b[0m \u001b[0mi\u001b[0m \u001b[1;32min\u001b[0m \u001b[0mrange\u001b[0m\u001b[1;33m(\u001b[0m\u001b[0mn_samples\u001b[0m\u001b[1;33m)\u001b[0m\u001b[1;33m:\u001b[0m\u001b[1;33m\u001b[0m\u001b[1;33m\u001b[0m\u001b[0m\n\u001b[1;32m--> 143\u001b[1;33m                 \u001b[0mproba\u001b[0m\u001b[1;33m[\u001b[0m\u001b[0mi\u001b[0m\u001b[1;33m,\u001b[0m \u001b[0mpredictions\u001b[0m\u001b[1;33m[\u001b[0m\u001b[0mi\u001b[0m\u001b[1;33m]\u001b[0m\u001b[1;33m]\u001b[0m \u001b[1;33m+=\u001b[0m \u001b[1;36m1\u001b[0m\u001b[1;33m\u001b[0m\u001b[1;33m\u001b[0m\u001b[0m\n\u001b[0m\u001b[0;32m    144\u001b[0m \u001b[1;33m\u001b[0m\u001b[0m\n\u001b[0;32m    145\u001b[0m     \u001b[1;32mreturn\u001b[0m \u001b[0mproba\u001b[0m\u001b[1;33m\u001b[0m\u001b[1;33m\u001b[0m\u001b[0m\n",
      "\u001b[1;31mIndexError\u001b[0m: index 1 is out of bounds for axis 1 with size 1"
     ]
    }
   ],
   "source": [
    "# Separate Correct and Incorrect Classifications\r\n",
    "predictions = classifier.predict(fit_data)\r\n",
    "correct_predictions = [[], []]\r\n",
    "incorrect_predictions = [[], []]\r\n",
    "for n in range(number_of_positive_entries):\r\n",
    "    if(predictions[n] == 1):\r\n",
    "        correct_predictions[0].append(fit_data[n][0])\r\n",
    "        correct_predictions[1].append(fit_data[n][1])\r\n",
    "    else:\r\n",
    "        incorrect_predictions[0].append(fit_data[n][0])\r\n",
    "        incorrect_predictions[1].append(fit_data[n][1])\r\n",
    "\r\n",
    "for n in range(number_of_negative_entries):\r\n",
    "    if(predictions[400+n] == 1):\r\n",
    "        incorrect_predictions[0].append(fit_data[number_of_positive_entries+n][0])\r\n",
    "        incorrect_predictions[1].append(fit_data[number_of_positive_entries+n][1])\r\n",
    "    else:\r\n",
    "        correct_predictions[0].append(fit_data[number_of_positive_entries+n][0])\r\n",
    "        correct_predictions[1].append(fit_data[number_of_positive_entries+n][1])"
   ]
  },
  {
   "cell_type": "code",
   "execution_count": null,
   "metadata": {},
   "outputs": [
    {
     "data": {
      "text/plain": [
       "<matplotlib.collections.PathCollection at 0x2e5c9775610>"
      ]
     },
     "execution_count": 35,
     "metadata": {},
     "output_type": "execute_result"
    },
    {
     "data": {
      "image/png": "[encoded data removed]",
      "text/plain": [
       "<Figure size 432x288 with 1 Axes>"
      ]
     },
     "metadata": {},
     "output_type": "display_data"
    }
   ],
   "source": [
    "plt.figure(2)\r\n",
    "legend = {}\r\n",
    "axes = plt.gca()\r\n",
    "axes.set_xlim([0,3])\r\n",
    "axes.set_ylim([0,3])\r\n",
    "axes.set_aspect('equal')\r\n",
    "xx1, yy1 = np.meshgrid(np.linspace(0,3,500), np.linspace(0,3,500))\r\n",
    "Z1 = classifier.decision_function(np.c_[xx1.ravel(), yy1.ravel()])\r\n",
    "Z1 = Z1.reshape(xx1.shape)\r\n",
    "plt.contour(xx1, yy1, Z1, levels=[0], linewidths=2, colors='b')\r\n",
    "plt.scatter(correct_predictions[0], correct_predictions[1], s=1, c='k')\r\n",
    "plt.scatter(incorrect_predictions[0], incorrect_predictions[1], marker='x', c='r', s=10)"
   ]
  },
  {
   "cell_type": "code",
   "execution_count": null,
   "metadata": {},
   "outputs": [
    {
     "name": "stdout",
     "output_type": "stream",
     "text": [
      "Correct Predictions: 400\n",
      "Incorrect Predictions: 50\n",
      "Percent Correct: %88.88888888888889\n"
     ]
    }
   ],
   "source": [
    "number_correct = len(correct_predictions[0])\r\n",
    "number_incorrect = len(incorrect_predictions[0])\r\n",
    "correct_percentage = 100*(number_correct/(number_correct+number_incorrect))\r\n",
    "\r\n",
    "print(f\"Correct Predictions: {number_correct}\")\r\n",
    "print(f\"Incorrect Predictions: {number_incorrect}\")\r\n",
    "print(f\"Percent Correct: %{correct_percentage}\")\r\n"
   ]
  },
  {
   "cell_type": "markdown",
   "metadata": {},
   "source": [
    "## Square Model"
   ]
  },
  {
   "cell_type": "markdown",
   "metadata": {},
   "source": [
    "### Unbagged Model"
   ]
  },
  {
   "cell_type": "code",
   "execution_count": null,
   "metadata": {},
   "outputs": [],
   "source": [
    "# Build Square Noise Data\r\n",
    "x_positive = np.zeros(400)\r\n",
    "y_positive = np.zeros(400)\r\n",
    "x_negative = np.zeros(50)\r\n",
    "y_negative = np.zeros(50)\r\n",
    "\r\n",
    "# Generate positive values\r\n",
    "for n in range(0, 400):\r\n",
    "    set_index = random.randint(0, 3) # 4 Possible sets that makeup a square\r\n",
    "    if(set_index == 0):\r\n",
    "        x_positive[n] = random.uniform(0.4, 2.6)\r\n",
    "        y_positive[n] = random.uniform(0.4, 0.6)\r\n",
    "    elif(set_index == 1):\r\n",
    "        x_positive[n] = random.uniform(0.4, 2.6)\r\n",
    "        y_positive[n] = random.uniform(2.4, 2.6)\r\n",
    "    elif(set_index == 2):\r\n",
    "        x_positive[n] = random.uniform(0.4, 0.6)\r\n",
    "        y_positive[n] = random.uniform(0.4, 2.6)\r\n",
    "    elif(set_index == 3):\r\n",
    "        x_positive[n] = random.uniform(2.4, 2.6)\r\n",
    "        y_positive[n] = random.uniform(0.4, 2.6)\r\n",
    "\r\n",
    "# Generate negative values\r\n",
    "for n in range(0, 50):\r\n",
    "    x_negative[n] = random.uniform(0, 3)\r\n",
    "    y_negative[n] = random.uniform(0, 3)\r\n",
    "\r\n",
    "# Generate Training (Fit) Data\r\n",
    "fit_data = np.zeros((450,2))\r\n",
    "for n in range(400):\r\n",
    "    fit_data[n][0] = x_positive[n]\r\n",
    "    fit_data[n][1] = y_positive[n]\r\n",
    "\r\n",
    "for n in range(50):\r\n",
    "    fit_data[n+400][0] = x_negative[n]\r\n",
    "    fit_data[n+400][1] = y_negative[n]\r\n",
    "\r\n",
    "target_values = np.zeros(450)\r\n",
    "\r\n",
    "for n in range(450):\r\n",
    "    if n<400:\r\n",
    "        target_values[n] = 1\r\n",
    "    else:\r\n",
    "        target_values[n] = -1    "
   ]
  },
  {
   "cell_type": "code",
   "execution_count": null,
   "metadata": {},
   "outputs": [],
   "source": [
    "# Generate positive values\r\n",
    "for n in range(0, 400):\r\n",
    "    set_index = random.randint(0, 3) # 4 Possible sets that makeup a square\r\n",
    "    if(set_index == 0):\r\n",
    "        x_positive[n] = random.uniform(0.4, 2.6)\r\n",
    "        y_positive[n] = random.uniform(0.4, 0.6)\r\n",
    "    elif(set_index == 1):\r\n",
    "        x_positive[n] = random.uniform(0.4, 2.6)\r\n",
    "        y_positive[n] = random.uniform(2.4, 2.6)\r\n",
    "    elif(set_index == 2):\r\n",
    "        x_positive[n] = random.uniform(0.4, 0.6)\r\n",
    "        y_positive[n] = random.uniform(0.4, 2.6)\r\n",
    "    elif(set_index == 3):\r\n",
    "        x_positive[n] = random.uniform(2.4, 2.6)\r\n",
    "        y_positive[n] = random.uniform(0.4, 2.6)\r\n",
    "\r\n",
    "# Generate negative values\r\n",
    "for n in range(0, 50):\r\n",
    "    x_negative[n] = random.uniform(0, 3)\r\n",
    "    y_negative[n] = random.uniform(0, 3)\r\n",
    "\r\n",
    "# Generate Test Data\r\n",
    "test_data = np.zeros((450,2))\r\n",
    "for n in range(400):\r\n",
    "    test_data[n][0] = x_positive[n]\r\n",
    "    test_data[n][1] = y_positive[n]\r\n",
    "\r\n",
    "for n in range(50):\r\n",
    "    test_data[n+400][0] = x_negative[n]\r\n",
    "    test_data[n+400][1] = y_negative[n]\r\n",
    "\r\n",
    "test_target_values = np.zeros(450)\r\n",
    "\r\n",
    "for n in range(450):\r\n",
    "    if n<400:\r\n",
    "        test_target_values[n] = 1\r\n",
    "    else:\r\n",
    "        test_target_values[n] = -1  "
   ]
  },
  {
   "cell_type": "markdown",
   "metadata": {},
   "source": [
    "#### Train Model"
   ]
  },
  {
   "cell_type": "code",
   "execution_count": null,
   "metadata": {},
   "outputs": [],
   "source": [
    "classifier = OneClassSVM(gamma='auto', nu=1.0/9.0).fit(fit_data)"
   ]
  },
  {
   "cell_type": "code",
   "execution_count": null,
   "metadata": {},
   "outputs": [
    {
     "data": {
      "text/plain": [
       "<matplotlib.collections.PathCollection at 0x2e5c43af490>"
      ]
     },
     "execution_count": 16,
     "metadata": {},
     "output_type": "execute_result"
    },
    {
     "data": {
      "image/png": "[encoded data removed]",
      "text/plain": [
       "<Figure size 432x288 with 1 Axes>"
      ]
     },
     "metadata": {},
     "output_type": "display_data"
    }
   ],
   "source": [
    "plt.figure(3)\r\n",
    "legend = {}\r\n",
    "axes = plt.gca()\r\n",
    "axes.set_xlim([0,3])\r\n",
    "axes.set_ylim([0,3])\r\n",
    "axes.set_aspect('equal')\r\n",
    "xx1, yy1 = np.meshgrid(np.linspace(0,3,500), np.linspace(0,3,500))\r\n",
    "Z1 = classifier.decision_function(np.c_[xx1.ravel(), yy1.ravel()])\r\n",
    "Z1 = Z1.reshape(xx1.shape)\r\n",
    "plt.contour(xx1, yy1, Z1, levels=[0], linewidths=2, colors='b')\r\n",
    "plt.scatter(x_positive, y_positive, c='k', s=1)\r\n",
    "plt.scatter(x_negative, y_negative, c='r', marker='x',  s=10)"
   ]
  },
  {
   "cell_type": "markdown",
   "metadata": {},
   "source": [
    "#### Test Model"
   ]
  },
  {
   "cell_type": "code",
   "execution_count": null,
   "metadata": {},
   "outputs": [],
   "source": [
    "predictions = classifier.fit(test_data)"
   ]
  },
  {
   "cell_type": "code",
   "execution_count": null,
   "metadata": {},
   "outputs": [
    {
     "ename": "TypeError",
     "evalue": "'OneClassSVM' object is not subscriptable",
     "output_type": "error",
     "traceback": [
      "\u001b[1;31m---------------------------------------------------------------------------\u001b[0m",
      "\u001b[1;31mTypeError\u001b[0m                                 Traceback (most recent call last)",
      "\u001b[1;32m<ipython-input-18-ee20107d6771>\u001b[0m in \u001b[0;36m<module>\u001b[1;34m\u001b[0m\n\u001b[0;32m      3\u001b[0m \u001b[0mincorrect_predictions\u001b[0m \u001b[1;33m=\u001b[0m \u001b[1;33m[\u001b[0m\u001b[1;33m[\u001b[0m\u001b[1;33m]\u001b[0m\u001b[1;33m,\u001b[0m \u001b[1;33m[\u001b[0m\u001b[1;33m]\u001b[0m\u001b[1;33m]\u001b[0m\u001b[1;33m\u001b[0m\u001b[1;33m\u001b[0m\u001b[0m\n\u001b[0;32m      4\u001b[0m \u001b[1;32mfor\u001b[0m \u001b[0mn\u001b[0m \u001b[1;32min\u001b[0m \u001b[0mrange\u001b[0m\u001b[1;33m(\u001b[0m\u001b[1;36m400\u001b[0m\u001b[1;33m)\u001b[0m\u001b[1;33m:\u001b[0m\u001b[1;33m\u001b[0m\u001b[1;33m\u001b[0m\u001b[0m\n\u001b[1;32m----> 5\u001b[1;33m     \u001b[1;32mif\u001b[0m\u001b[1;33m(\u001b[0m\u001b[0mpredictions\u001b[0m\u001b[1;33m[\u001b[0m\u001b[0mn\u001b[0m\u001b[1;33m]\u001b[0m \u001b[1;33m==\u001b[0m \u001b[1;36m1\u001b[0m\u001b[1;33m)\u001b[0m\u001b[1;33m:\u001b[0m\u001b[1;33m\u001b[0m\u001b[1;33m\u001b[0m\u001b[0m\n\u001b[0m\u001b[0;32m      6\u001b[0m         \u001b[0mcorrect_predictions\u001b[0m\u001b[1;33m[\u001b[0m\u001b[1;36m0\u001b[0m\u001b[1;33m]\u001b[0m\u001b[1;33m.\u001b[0m\u001b[0mappend\u001b[0m\u001b[1;33m(\u001b[0m\u001b[0mfit_data\u001b[0m\u001b[1;33m[\u001b[0m\u001b[0mn\u001b[0m\u001b[1;33m]\u001b[0m\u001b[1;33m[\u001b[0m\u001b[1;36m0\u001b[0m\u001b[1;33m]\u001b[0m\u001b[1;33m)\u001b[0m\u001b[1;33m\u001b[0m\u001b[1;33m\u001b[0m\u001b[0m\n\u001b[0;32m      7\u001b[0m         \u001b[0mcorrect_predictions\u001b[0m\u001b[1;33m[\u001b[0m\u001b[1;36m1\u001b[0m\u001b[1;33m]\u001b[0m\u001b[1;33m.\u001b[0m\u001b[0mappend\u001b[0m\u001b[1;33m(\u001b[0m\u001b[0mfit_data\u001b[0m\u001b[1;33m[\u001b[0m\u001b[0mn\u001b[0m\u001b[1;33m]\u001b[0m\u001b[1;33m[\u001b[0m\u001b[1;36m1\u001b[0m\u001b[1;33m]\u001b[0m\u001b[1;33m)\u001b[0m\u001b[1;33m\u001b[0m\u001b[1;33m\u001b[0m\u001b[0m\n",
      "\u001b[1;31mTypeError\u001b[0m: 'OneClassSVM' object is not subscriptable"
     ]
    }
   ],
   "source": [
    "# Separate Correct and Incorrect Classifications\r\n",
    "correct_predictions = [[], []]\r\n",
    "incorrect_predictions = [[], []]\r\n",
    "for n in range(400):\r\n",
    "    if(predictions[n] == 1):\r\n",
    "        correct_predictions[0].append(fit_data[n][0])\r\n",
    "        correct_predictions[1].append(fit_data[n][1])\r\n",
    "    else:\r\n",
    "        incorrect_predictions[0].append(fit_data[n][0])\r\n",
    "        incorrect_predictions[1].append(fit_data[n][1])\r\n",
    "\r\n",
    "for n in range(50):\r\n",
    "    if(predictions[400+n] == 1):\r\n",
    "        incorrect_predictions[0].append(fit_data[400+n][0])\r\n",
    "        incorrect_predictions[1].append(fit_data[400+n][1])\r\n",
    "    else:\r\n",
    "        correct_predictions[0].append(fit_data[400+n][0])\r\n",
    "        correct_predictions[1].append(fit_data[400+n][1])"
   ]
  },
  {
   "cell_type": "code",
   "execution_count": null,
   "metadata": {},
   "outputs": [
    {
     "name": "stdout",
     "output_type": "stream",
     "text": [
      "Correct Predictions: 387\n",
      "Incorrect Predictions: 63\n",
      "Percent Correct: %86.0\n"
     ]
    }
   ],
   "source": [
    "number_correct = len(correct_predictions[0])\r\n",
    "number_incorrect = len(incorrect_predictions[0])\r\n",
    "correct_percentage = 100*(number_correct/(number_correct+number_incorrect))\r\n",
    "\r\n",
    "print(f\"Correct Predictions: {number_correct}\")\r\n",
    "print(f\"Incorrect Predictions: {number_incorrect}\")\r\n",
    "print(f\"Percent Correct: %{correct_percentage}\")"
   ]
  },
  {
   "cell_type": "code",
   "execution_count": null,
   "metadata": {},
   "outputs": [
    {
     "data": {
      "text/plain": [
       "<matplotlib.collections.PathCollection at 0x1ba07d40be0>"
      ]
     },
     "execution_count": 15,
     "metadata": {},
     "output_type": "execute_result"
    },
    {
     "data": {
      "image/png": "[encoded data removed]",
      "text/plain": [
       "<Figure size 432x288 with 1 Axes>"
      ]
     },
     "metadata": {},
     "output_type": "display_data"
    }
   ],
   "source": [
    "plt.figure(4)\r\n",
    "legend = {}\r\n",
    "axes = plt.gca()\r\n",
    "axes.set_xlim([0,3])\r\n",
    "axes.set_ylim([0,3])\r\n",
    "axes.set_aspect('equal')\r\n",
    "xx1, yy1 = np.meshgrid(np.linspace(0,3,500), np.linspace(0,3,500))\r\n",
    "Z1 = classifier.decision_function(np.c_[xx1.ravel(), yy1.ravel()])\r\n",
    "Z1 = Z1.reshape(xx1.shape)\r\n",
    "plt.contour(xx1, yy1, Z1, levels=[0], linewidths=2, colors='b')\r\n",
    "plt.scatter(correct_predictions[0], correct_predictions[1], c='k', s=1)\r\n",
    "plt.scatter(incorrect_predictions[0], incorrect_predictions[1], c='r', marker='x',  s=10)"
   ]
  },
  {
   "cell_type": "code",
   "execution_count": null,
   "metadata": {},
   "outputs": [
    {
     "data": {
      "text/plain": [
       "array([ 6.36407395e-01,  7.58998739e-01,  9.14558003e-01,  7.57187915e-01,\n",
       "        6.07039438e-01,  3.51773331e-01,  4.34427625e-01,  8.28289144e-01,\n",
       "        4.61414294e-01,  6.96761177e-02,  6.81121018e-01,  5.50139285e-01,\n",
       "        6.25515921e-02,  7.15703184e-01,  5.05634658e-01,  9.99180148e-01,\n",
       "        6.18668285e-01, -3.28710206e-01,  7.35917314e-01, -2.05422228e-01,\n",
       "        3.56423269e-01, -1.09379922e-01,  4.07274607e-01,  4.87585566e-01,\n",
       "        1.31812241e-01,  7.96606664e-01,  5.18734207e-01,  9.32282729e-01,\n",
       "       -2.17562697e-01,  5.19921342e-01,  5.98395658e-01,  9.16553158e-01,\n",
       "        7.61971556e-01,  7.15846651e-01,  7.63898162e-01,  2.79827014e-01,\n",
       "        3.51244301e-01,  1.37188467e-01, -2.37625832e-04,  8.59899629e-01,\n",
       "        7.71569392e-01,  3.74088789e-01,  2.35031179e-01,  4.25358445e-01,\n",
       "       -2.95205564e-01,  6.70511541e-01,  2.59291876e-01,  3.27957401e-01,\n",
       "        2.90293963e-01,  4.60444427e-01,  4.37619671e-01,  8.28197941e-01,\n",
       "        2.43411048e-01,  5.69428096e-01,  5.51805385e-01,  5.96646015e-01,\n",
       "        9.41211419e-01,  9.15883468e-01,  5.69107295e-02,  9.15541525e-01,\n",
       "        4.98249361e-01,  6.07675083e-01,  8.29643876e-01,  4.59799199e-01,\n",
       "        7.53202967e-01,  4.78398066e-01,  4.01667291e-01,  6.54572688e-01,\n",
       "        1.22525800e-01, -3.93605821e-01,  1.12277991e-01,  5.11302749e-01,\n",
       "        6.71380537e-01,  5.43049387e-01,  8.34441720e-01,  8.63196938e-01,\n",
       "        8.17276190e-01,  6.68321484e-01, -2.50403136e-01,  8.40659335e-01,\n",
       "        5.25549026e-01,  6.73089540e-01,  3.48834162e-01,  7.17614114e-01,\n",
       "        6.20594167e-01,  2.08230733e-01,  2.61096197e-01,  8.00435838e-01,\n",
       "        7.20197863e-01,  4.43494548e-01, -2.80985765e-01, -2.58371315e-02,\n",
       "        6.70730143e-01,  6.49783685e-01,  4.80511986e-01,  7.20407874e-01,\n",
       "        4.66771131e-01,  1.94848791e-01,  7.44537912e-01,  6.79502652e-01,\n",
       "        7.41719085e-01,  6.63764422e-01,  6.61020185e-01,  6.63307038e-01,\n",
       "        7.92620912e-01,  6.90563379e-01,  3.13296478e-01, -2.02630258e-03,\n",
       "        7.00799989e-01,  8.18625350e-01,  5.13503800e-01,  4.12679904e-01,\n",
       "        5.41907246e-01,  7.57832450e-01,  7.04431421e-01,  6.44947094e-01,\n",
       "        8.03980388e-01,  3.49586239e-01,  6.91888223e-01,  6.35341569e-01,\n",
       "        3.95557157e-01,  7.61335326e-01,  4.49400257e-01,  1.62372624e-02,\n",
       "        5.69122438e-01,  4.32306847e-01,  7.41461942e-01,  9.32369878e-01,\n",
       "        8.72568409e-01,  6.35642204e-01,  2.56876836e-01,  7.51814155e-01,\n",
       "        5.18113491e-01,  3.20235582e-01,  8.06656965e-01,  4.21125080e-01,\n",
       "        6.08453165e-01,  6.07220104e-01,  6.14938496e-01,  4.41741400e-01,\n",
       "        7.33811402e-01,  8.14946146e-01,  8.04943282e-01,  8.78906119e-02,\n",
       "        3.50604827e-01,  1.90958809e-01,  8.60341636e-01,  8.45836069e-01,\n",
       "        8.71997157e-01,  5.48548673e-01,  7.65841423e-01,  4.98478109e-01,\n",
       "        4.02399991e-01,  8.40471757e-01,  4.07081554e-01,  6.86674602e-01,\n",
       "        7.02137490e-01,  3.04495787e-01,  5.85111836e-01,  7.89689110e-01,\n",
       "        6.14839102e-01,  3.04813760e-01,  5.91849205e-01,  7.26264240e-01,\n",
       "        1.92523830e-01,  7.64361240e-01, -2.69989719e-01,  2.42536517e-01,\n",
       "        5.94517296e-01,  6.43859460e-01,  7.74322449e-01,  8.45405418e-01,\n",
       "        4.60894799e-01, -1.47111264e-01,  1.16250451e-01,  7.08604520e-01,\n",
       "        7.31342026e-01,  7.71349257e-01,  4.05348606e-01,  8.85699152e-01,\n",
       "        5.85122847e-01,  5.31707186e-01,  6.51632069e-01,  6.68484682e-01,\n",
       "        8.83393646e-02,  6.02695086e-01,  7.45410695e-01,  4.97798904e-01,\n",
       "        3.13278060e-01,  7.42627869e-01,  3.47763540e-01,  4.52172958e-01,\n",
       "        1.44733969e-01,  4.45724428e-01,  9.16635633e-01,  3.60195852e-01,\n",
       "        1.86589432e-02,  6.31153592e-01, -2.59292644e-01,  6.07606868e-01,\n",
       "        6.52016506e-01,  7.73474834e-01,  4.92252132e-01,  7.02231542e-02,\n",
       "        5.09770803e-01,  7.76082849e-01,  1.89810034e-01,  6.33150612e-01,\n",
       "        5.66880009e-01,  2.56887427e-01,  1.88583071e-01,  3.91618610e-01,\n",
       "        5.02071803e-01,  7.19357099e-01,  6.87835218e-01,  5.85382646e-01,\n",
       "        7.69888730e-01,  1.87697187e-01,  7.61752603e-01,  4.76225818e-01,\n",
       "        5.50318104e-01,  5.74391944e-01,  7.34693285e-01,  8.96656090e-01,\n",
       "        2.51404264e-01,  7.66112842e-01,  4.11762602e-01,  8.79744324e-01,\n",
       "        9.40680061e-01,  4.44989343e-01,  8.10074596e-01, -1.71336845e-01,\n",
       "        7.17119601e-01,  9.19584751e-01,  3.44743534e-01,  8.22280498e-01,\n",
       "        7.84017175e-01,  7.88482361e-01,  9.61771272e-04,  9.34921721e-01,\n",
       "        7.54261099e-01,  6.26767758e-01,  3.68756116e-01,  6.19396169e-01,\n",
       "        7.88063014e-01,  6.73750200e-05,  5.32067570e-01,  2.90058356e-01,\n",
       "        1.06176652e-01, -5.03171538e-01, -2.65593814e-01,  8.03832511e-01,\n",
       "        6.67091080e-01,  6.93623632e-01,  8.00054856e-01,  4.42872694e-01,\n",
       "        5.00098286e-01,  6.97153812e-01,  6.01586923e-01, -2.92404033e-05,\n",
       "        3.07189684e-01, -3.14967732e-01,  6.87198656e-01,  3.86843724e-01,\n",
       "        4.40918855e-01,  5.56848738e-01,  2.83482377e-01,  7.16020298e-01,\n",
       "        2.67136535e-01,  4.51435288e-01,  8.93136990e-01,  3.81146711e-01,\n",
       "        6.81821327e-01, -2.71986707e-01,  3.46886586e-01,  8.19958405e-01,\n",
       "        6.91934136e-01,  6.85953023e-01,  6.99630040e-01,  4.97391487e-02,\n",
       "        6.42058794e-01,  9.37690128e-01,  3.76654445e-01,  7.38526670e-01,\n",
       "        6.76090693e-01,  5.09812933e-01,  3.57069809e-01,  6.53458144e-01,\n",
       "        6.05702425e-01, -1.56048257e-01,  5.82361476e-01, -2.56192643e-01,\n",
       "        8.06095597e-01,  7.82418885e-02,  1.78667530e-01,  3.36110036e-01,\n",
       "       -4.76959927e-02,  1.89176367e-02,  2.97027893e-01,  5.50521765e-01,\n",
       "        8.90112638e-01,  4.61404013e-01,  4.94959399e-01,  6.17455369e-01,\n",
       "        3.63561276e-01,  8.36113286e-01,  8.19728317e-01,  8.28947705e-01,\n",
       "        5.85988305e-01,  3.30689247e-01,  3.74865718e-01,  5.47618595e-01,\n",
       "        5.13029210e-01,  8.34077715e-01,  6.92573249e-01,  6.72402826e-01,\n",
       "        2.13207115e-01,  7.60423774e-01,  8.28258033e-01,  8.66726627e-01,\n",
       "        9.67834338e-01,  5.42719521e-01,  5.74574823e-01,  5.77146132e-01,\n",
       "       -2.79509536e-01,  6.73664141e-05,  7.16175360e-01,  5.84237857e-01,\n",
       "        7.57566017e-01,  5.32928729e-01,  7.60354676e-01,  6.10195958e-01,\n",
       "        7.60654887e-01, -1.98904554e-01,  5.31935609e-01, -1.37887703e-02,\n",
       "        4.37715244e-01,  3.75028948e-01,  4.89993894e-01,  2.78855207e-01,\n",
       "        7.93031502e-01,  6.24938697e-01,  3.62686909e-01,  8.04650968e-01,\n",
       "        6.84009196e-01,  6.88232630e-01,  8.04278207e-01,  1.27055281e-01,\n",
       "       -5.01316570e-02,  5.58898628e-01,  6.29090593e-01, -5.79655640e-02,\n",
       "        7.25397830e-01,  3.42069703e-01,  4.87569951e-01,  7.15831615e-01,\n",
       "        4.66870709e-01,  7.70028215e-01,  5.53381209e-01,  3.13064566e-01,\n",
       "        4.45544687e-01,  3.95306146e-01, -2.23340771e-01,  1.20455424e-01,\n",
       "        4.88925264e-02,  7.96375740e-01,  4.35311599e-01,  1.56977103e-01,\n",
       "        3.23237870e-02,  7.22682146e-01,  8.41362457e-01,  3.83114544e-01,\n",
       "        4.82619879e-01,  4.16927563e-01,  1.43315688e-01,  6.43115339e-01,\n",
       "        8.55817662e-01,  8.40063586e-01,  6.47494300e-01,  3.34610754e-01,\n",
       "        8.17760118e-01,  9.02256351e-01, -7.20671812e-05,  3.34730478e-01,\n",
       "        9.40595672e-01,  5.49020491e-01,  5.02853024e-01,  5.12780756e-02,\n",
       "        7.26020340e-01,  4.84543751e-01,  2.81142711e-01,  3.29412088e-01,\n",
       "        6.19138038e-01, -1.26070678e-01,  6.81403784e-01,  6.56010572e-01,\n",
       "        6.15035254e-01,  4.57200610e-01,  4.69901568e-01,  5.79018405e-01,\n",
       "        1.04545733e+00,  1.08469870e+00, -2.12368528e+00,  6.74745905e-01,\n",
       "        6.79068796e-01,  6.26951741e-01, -3.57222740e-01,  1.15351778e+00,\n",
       "       -2.57782474e+00,  2.29171507e-01, -1.56665756e+00,  1.06859063e+00,\n",
       "       -2.34026976e-01, -1.24377266e+00,  4.59564017e-01,  6.38788277e-01,\n",
       "        1.15739389e+00,  9.61259741e-01, -1.48828820e+00,  8.22203250e-01,\n",
       "        5.83365238e-01,  9.98943043e-01,  3.46983023e-01,  7.66211020e-01,\n",
       "        1.17050602e+00,  1.07106775e+00,  7.30773351e-02,  1.75014768e-04,\n",
       "        3.10638143e-01, -2.29463383e+00, -1.30343642e+00, -1.75688255e+00,\n",
       "        1.11879906e+00, -3.06365036e+00, -8.02167346e-01, -8.74605607e-01,\n",
       "        4.01476766e-01,  3.85388688e-01, -1.68881641e+00, -8.73406686e-01,\n",
       "       -5.39901915e-01,  4.31187813e-02,  1.12888940e+00,  1.11934955e+00,\n",
       "       -2.48650924e-01,  1.12074702e+00,  9.08617279e-01,  9.64137331e-01,\n",
       "        9.76544908e-01, -1.16173645e+00])"
      ]
     },
     "execution_count": 12,
     "metadata": {},
     "output_type": "execute_result"
    }
   ],
   "source": [
    "classifier.decision_function(test_data)"
   ]
  },
  {
   "cell_type": "markdown",
   "metadata": {},
   "source": [
    "### Bagged Model"
   ]
  },
  {
   "cell_type": "code",
   "execution_count": null,
   "metadata": {},
   "outputs": [],
   "source": [
    "classifier = BaggingClassifier(base_estimator=OneClassSVM(gamma='scale', nu=1.0/9.0), n_estimators=10, random_state=1).fit(fit_data, target_values)"
   ]
  },
  {
   "cell_type": "code",
   "execution_count": null,
   "metadata": {},
   "outputs": [],
   "source": [
    "# Separate Correct and Incorrect Classifications\r\n",
    "predictions = classifier.predict(fit_data)\r\n",
    "correct_predictions = [[], []]\r\n",
    "incorrect_predictions = [[], []]\r\n",
    "for n in range(400):\r\n",
    "    if(predictions[n] == 1):\r\n",
    "        correct_predictions[0].append(fit_data[n][0])\r\n",
    "        correct_predictions[1].append(fit_data[n][1])\r\n",
    "    else:\r\n",
    "        incorrect_predictions[0].append(fit_data[n][0])\r\n",
    "        incorrect_predictions[1].append(fit_data[n][1])\r\n",
    "\r\n",
    "for n in range(50):\r\n",
    "    if(predictions[400+n] == 1):\r\n",
    "        incorrect_predictions[0].append(fit_data[400+n][0])\r\n",
    "        incorrect_predictions[1].append(fit_data[400+n][1])\r\n",
    "    else:\r\n",
    "        correct_predictions[0].append(fit_data[400+n][0])\r\n",
    "        correct_predictions[1].append(fit_data[400+n][1])"
   ]
  },
  {
   "cell_type": "code",
   "execution_count": null,
   "metadata": {},
   "outputs": [],
   "source": [
    "plt.figure(4)\r\n",
    "legend = {}\r\n",
    "axes = plt.gca()\r\n",
    "axes.set_xlim([0,3])\r\n",
    "axes.set_ylim([0,3])\r\n",
    "axes.set_aspect('equal')\r\n",
    "xx1, yy1 = np.meshgrid(np.linspace(0,3,500), np.linspace(0,3,500))\r\n",
    "Z1 = classifier.decision_function(np.c_[xx1.ravel(), yy1.ravel()])\r\n",
    "Z1 = Z1.reshape(xx1.shape)\r\n",
    "plt.contour(xx1, yy1, Z1, levels=[0], linewidths=2, colors='b')\r\n",
    "plt.scatter(correct_predictions[0], correct_predictions[1], s=1, c='k')\r\n",
    "plt.scatter(incorrect_predictions[0], incorrect_predictions[1], marker='x', c='r', s=10)"
   ]
  },
  {
   "cell_type": "code",
   "execution_count": null,
   "metadata": {},
   "outputs": [],
   "source": [
    "# Separate Correct and Incorrect Classifications\r\n",
    "predictions = classifier.predict(test_data)\r\n",
    "correct_predictions = [[], []]\r\n",
    "incorrect_predictions = [[], []]\r\n",
    "for n in range(400):\r\n",
    "    if(predictions[n] == 1):\r\n",
    "        correct_predictions[0].append(fit_data[n][0])\r\n",
    "        correct_predictions[1].append(fit_data[n][1])\r\n",
    "    else:\r\n",
    "        incorrect_predictions[0].append(fit_data[n][0])\r\n",
    "        incorrect_predictions[1].append(fit_data[n][1])\r\n",
    "\r\n",
    "for n in range(50):\r\n",
    "    if(predictions[400+n] == 1):\r\n",
    "        incorrect_predictions[0].append(fit_data[400+n][0])\r\n",
    "        incorrect_predictions[1].append(fit_data[400+n][1])\r\n",
    "    else:\r\n",
    "        correct_predictions[0].append(fit_data[400+n][0])\r\n",
    "        correct_predictions[1].append(fit_data[400+n][1])"
   ]
  },
  {
   "cell_type": "code",
   "execution_count": null,
   "metadata": {},
   "outputs": [],
   "source": [
    "classifier.decision_function(test_data)"
   ]
  },
  {
   "cell_type": "code",
   "execution_count": null,
   "metadata": {},
   "outputs": [],
   "source": [
    "number_correct = len(correct_predictions[0])\r\n",
    "number_incorrect = len(incorrect_predictions[0])\r\n",
    "correct_percentage = 100*(number_correct/(number_correct+number_incorrect))\r\n",
    "\r\n",
    "print(f\"Correct Predictions: {number_correct}\")\r\n",
    "print(f\"Incorrect Predictions: {number_incorrect}\")\r\n",
    "print(f\"Percent Correct: %{correct_percentage}\")"
   ]
  },
  {
   "cell_type": "code",
   "execution_count": null,
   "metadata": {},
   "outputs": [],
   "source": [
    "predictions"
   ]
  },
  {
   "cell_type": "markdown",
   "metadata": {},
   "source": [
    "## Circle Model"
   ]
  },
  {
   "cell_type": "code",
   "execution_count": null,
   "metadata": {},
   "outputs": [],
   "source": [
    "mean = 1.5\r\n",
    "variance = 0.1\r\n",
    "std_deviation = variance**0.5\r\n",
    "\r\n",
    "x_positive = np.random.normal(mean, std_deviation, 450)\r\n",
    "y_positive = np.random.normal(mean, std_deviation, 450)"
   ]
  },
  {
   "cell_type": "code",
   "execution_count": null,
   "metadata": {},
   "outputs": [],
   "source": [
    "plt.figure(3)\r\n",
    "axes = plt.gca()\r\n",
    "axes.set_xlim([0,3])\r\n",
    "axes.set_ylim([0,3])\r\n",
    "axes.set_aspect('equal')\r\n",
    "plt.scatter(x_positive, y_positive, s=1)"
   ]
  }
 ],
 "metadata": {
  "interpreter": {
   "hash": "44fbd7004c3016cd7534cf0f1edc719ec93b2873ebadbff0fa25fc2ae14dd33d"
  },
  "kernelspec": {
   "display_name": "Python 3.8.5 64-bit",
   "name": "python3"
  },
  "language_info": {
   "codemirror_mode": {
    "name": "ipython",
    "version": 3
   },
   "file_extension": ".py",
   "mimetype": "text/x-python",
   "name": "python",
   "nbconvert_exporter": "python",
   "pygments_lexer": "ipython3",
   "version": "3.9.5"
  },
  "metadata": {
   "interpreter": {
    "hash": "0470cbbb695460f767a7deae86eedc808971d1b3e84173573ba3613d448995f1"
   }
  },
  "orig_nbformat": 2
 },
 "nbformat": 4,
 "nbformat_minor": 2
}